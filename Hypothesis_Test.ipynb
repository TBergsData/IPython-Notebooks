{
  "nbformat": 4,
  "nbformat_minor": 0,
  "metadata": {
    "colab": {
      "name": "Hypothesis_Test.ipynb",
      "provenance": [],
      "collapsed_sections": []
    },
    "kernelspec": {
      "name": "python3",
      "display_name": "Python 3"
    },
    "language_info": {
      "name": "python"
    }
  },
  "cells": [
    {
      "cell_type": "code",
      "execution_count": null,
      "metadata": {
        "id": "TKXjBLenIdig",
        "cellView": "form"
      },
      "outputs": [],
      "source": [
        "#@title Import Libaries\n",
        "import numpy as np\n",
        "import seaborn as sns\n",
        "import matplotlib.pyplot as plt\n",
        "import pandas as pd\n",
        "import scipy"
      ]
    },
    {
      "cell_type": "code",
      "source": [
        "#@title Input Parameters for Hypothesis Test\n",
        "pop_size = int(input(\"Input size for two populations:     \"))\n",
        "mean1 = float(input(\"Input mean for Population 1:     \"))\n",
        "std1 = float(input(\"Input standard deviation for Population 1:     \"))\n",
        "mean2 = float(input(\"Input mean for Population 2:     \"))\n",
        "std2 = float(input(\"Input standard deviation for Population 2:     \"))\n",
        "samp_size = int(input(\"Input size for two samples:     \"))"
      ],
      "metadata": {
        "colab": {
          "base_uri": "https://localhost:8080/"
        },
        "cellView": "form",
        "id": "2N_meOsHgan8",
        "outputId": "01b34e65-383a-462b-d34d-5fa0b0cb86d0"
      },
      "execution_count": null,
      "outputs": [
        {
          "name": "stdout",
          "output_type": "stream",
          "text": [
            "Input size for two populations:     15000\n",
            "Input mean for Population 1:     5\n",
            "Input standard deviation for Population 1:     10\n",
            "Input mean for Population 2:     8\n",
            "Input standard deviation for Population 2:     10\n",
            "Input size for two samples:     45\n"
          ]
        }
      ]
    },
    {
      "cell_type": "markdown",
      "source": [
        "# **Two Populations with Normal Distribution**"
      ],
      "metadata": {
        "id": "qxnmTA3tI200"
      }
    },
    {
      "cell_type": "code",
      "source": [
        "#@title\n",
        "populations = np.transpose([np.random.normal(mean1, std1, pop_size), np.random.normal(mean2, std2, pop_size)])\n",
        "df_pop = pd.DataFrame(data=populations, columns=['Population 1', 'Population 2'])\n",
        "pop_chart = sns.histplot(data=df_pop).set_title(f\"Distribution of 2 Populations Each of Size {pop_size}\")"
      ],
      "metadata": {
        "colab": {
          "base_uri": "https://localhost:8080/",
          "height": 281
        },
        "id": "s4ZGgVJoJATk",
        "outputId": "7d88c34f-2a1c-4452-85ab-f80483193c4e",
        "cellView": "form"
      },
      "execution_count": null,
      "outputs": [
        {
          "output_type": "display_data",
          "data": {
            "image/png": "[encoded data removed]",
            "text/plain": [
              "<Figure size 432x288 with 1 Axes>"
            ]
          },
          "metadata": {
            "needs_background": "light"
          }
        }
      ]
    },
    {
      "cell_type": "markdown",
      "source": [
        "# **Two Samples Taken from Each of the Larger Populations**"
      ],
      "metadata": {
        "id": "WmeVAu5koDEo"
      }
    },
    {
      "cell_type": "code",
      "source": [
        "#@title \n",
        "samples = np.transpose([np.random.choice(populations[:,0], size=50), np.random.choice(populations[:,1], size=50)])\n",
        "\n",
        "df_sample = pd.DataFrame(data=samples, columns=['Sample 1', 'Sample 2'])\n",
        "\n",
        "sample_mean1 = np.mean(samples[:, 0])\n",
        "sample_std1 = np.std(samples[:, 0])\n",
        "sample_mean2 = np.mean(samples[:, 1])\n",
        "sample_std2 = np.std(samples[:, 1])\n",
        "samp_chart = sns.histplot(data=df_sample).set(title=f\"Distribution of 2 Samples, Each Size {samp_size}\")"
      ],
      "metadata": {
        "colab": {
          "base_uri": "https://localhost:8080/",
          "height": 281
        },
        "id": "ocIS1eKNJmjd",
        "outputId": "32af6ae9-ccd9-4c19-9d5b-becbb2cd05a2",
        "cellView": "form"
      },
      "execution_count": null,
      "outputs": [
        {
          "output_type": "display_data",
          "data": {
            "image/png": "[encoded data removed]",
            "text/plain": [
              "<Figure size 432x288 with 1 Axes>"
            ]
          },
          "metadata": {
            "needs_background": "light"
          }
        }
      ]
    },
    {
      "cell_type": "code",
      "source": [
        "#@title Compare sample from results and test null hypothesis that populations have same mean\n",
        "test_stat = np.abs((sample_mean1 - sample_mean2) / np.sqrt((sample_std1/len(samples[:, 0])) + (sample_std2/len(samples[:, 1]))))\n",
        "print(\"Mean of sample 1 is {:.4f}\".format(sample_mean1))\n",
        "print(\"Mean of sample 2 is {:.4f}\".format(sample_mean2))\n",
        "print(\"Standard deviation of sample 1 is {:.4f}\".format(sample_std1))\n",
        "print(\"Standard deviation of sample 2 is {:.4f}\".format(sample_std2))\n",
        "print(\"\\nThe test statistic is {:.4f}\\n\".format(test_stat))\n",
        "critical_99 = scipy.stats.norm.ppf(.995)\n",
        "critical_95 = scipy.stats.norm.ppf(.975)\n",
        "print(\"The 99pct (two-tailed) critical value is {:.4f}\".format(critical_99))\n",
        "if test_stat > critical_99:\n",
        "  print(\"Reject null hypothesis with 99% confidence. That is reject that means are from same population\\n\")\n",
        "else:\n",
        "  print(\"Accept null hypothesis with 99% confidence. That is cannot say that means are from different populations\\n\")\n",
        "print(\"The 95pct (two-tailed) critical value is {:.4f}\".format(critical_95))\n",
        "if test_stat > critical_95:\n",
        "  print(\"Reject null hypothesis with 95% confidence. That is reject that means are from same population\")\n",
        "else:\n",
        "  print(\"Accept null hypothesis with 95% confidence. That is cannot say that means are from different populations\")"
      ],
      "metadata": {
        "colab": {
          "base_uri": "https://localhost:8080/"
        },
        "id": "oA3MYynfO0xA",
        "outputId": "1ba28558-9d6b-4a6f-911e-e8ba70c3dac6"
      },
      "execution_count": null,
      "outputs": [
        {
          "output_type": "stream",
          "name": "stdout",
          "text": [
            "Mean of sample 1 is 4.0668\n",
            "Mean of sample 2 is 7.5643\n",
            "Standard deviation of sample 1 is 11.2499\n",
            "Standard deviation of sample 2 is 9.5158\n",
            "\n",
            "The test statistic is 5.4271\n",
            "\n",
            "The 99pct (two-tailed) critical value is 2.5758\n",
            "Reject null hypothesis with 99% confidence. That is reject that means are from same population\n",
            "\n",
            "The 95pct (two-tailed) critical value is 1.9600\n",
            "Reject null hypothesis with 95% confidence. That is reject that means are from same population\n"
          ]
        }
      ]
    }
  ]
}